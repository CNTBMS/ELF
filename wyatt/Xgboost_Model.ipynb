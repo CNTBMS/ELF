{
 "cells": [
  {
   "cell_type": "markdown",
   "metadata": {},
   "source": [
    "# source \n",
    "\n",
    "## xgboost\n",
    "\n",
    "- https://apple-rbox.tistory.com/6\n",
    "- https://brunch.co.kr/@snobberys/137\n"
   ]
  },
  {
   "cell_type": "markdown",
   "metadata": {},
   "source": [
    "## lightgbm\n",
    "\n",
    "- https://ko.raw3h.net/page/what-is-lightgbm-how-to-implement-it-how-to-fine-tune-the-parameters-5295f7/\n",
    "\n",
    "\n",
    "## etc\n",
    "\n",
    "- https://www.kaggle.com/shep312/applying-lightgbm-to-titanic-dataset\n",
    "- https://www.kaggle.com/suniliitb96/titanic-survival-prediction-using-xgboost\n"
   ]
  },
  {
   "cell_type": "code",
   "execution_count": 1,
   "metadata": {},
   "outputs": [],
   "source": [
    "import pandas as pd\n",
    "import numpy as np\n",
    "import matplotlib.pyplot as plt\n",
    "import seaborn as sns\n",
    "from xgboost import plot_importance\n",
    "from xgboost import XGBClassifier\n",
    "from sklearn.datasets import load_breast_cancer\n",
    "from sklearn.model_selection import train_test_split, GridSearchCV\n",
    "from sklearn.metrics import accuracy_score, f1_score, precision_score, recall_score, roc_auc_score, confusion_matrix"
   ]
  },
  {
   "cell_type": "code",
   "execution_count": 2,
   "metadata": {},
   "outputs": [],
   "source": [
    "def metrics(y_test, pred):\n",
    "    accuracy = accuracy_score(y_test, pred)\n",
    "    precision = precision_score(y_test, pred)\n",
    "    recall = recall_score(y_test, pred)\n",
    "    f1 = f1_score(y_test, pred)\n",
    "    roc_score = roc_auc_score(y_test, pred)\n",
    "    print('ACU : {0:.2f}, PRE : {1:.2f}, REC : {2:.2f}'.format(accuracy, precision, recall))\n",
    "    print('f1-score : {0:.2f}, auc : {1:.2f}'.format(f1, roc_score))"
   ]
  },
  {
   "cell_type": "code",
   "execution_count": 3,
   "metadata": {},
   "outputs": [
    {
     "data": {
      "text/html": [
       "<div>\n",
       "<style scoped>\n",
       "    .dataframe tbody tr th:only-of-type {\n",
       "        vertical-align: middle;\n",
       "    }\n",
       "\n",
       "    .dataframe tbody tr th {\n",
       "        vertical-align: top;\n",
       "    }\n",
       "\n",
       "    .dataframe thead th {\n",
       "        text-align: right;\n",
       "    }\n",
       "</style>\n",
       "<table border=\"1\" class=\"dataframe\">\n",
       "  <thead>\n",
       "    <tr style=\"text-align: right;\">\n",
       "      <th></th>\n",
       "      <th>mean radius</th>\n",
       "      <th>mean texture</th>\n",
       "      <th>mean perimeter</th>\n",
       "      <th>mean area</th>\n",
       "      <th>mean smoothness</th>\n",
       "      <th>mean compactness</th>\n",
       "      <th>mean concavity</th>\n",
       "      <th>mean concave points</th>\n",
       "      <th>mean symmetry</th>\n",
       "      <th>mean fractal dimension</th>\n",
       "      <th>...</th>\n",
       "      <th>worst texture</th>\n",
       "      <th>worst perimeter</th>\n",
       "      <th>worst area</th>\n",
       "      <th>worst smoothness</th>\n",
       "      <th>worst compactness</th>\n",
       "      <th>worst concavity</th>\n",
       "      <th>worst concave points</th>\n",
       "      <th>worst symmetry</th>\n",
       "      <th>worst fractal dimension</th>\n",
       "      <th>target</th>\n",
       "    </tr>\n",
       "  </thead>\n",
       "  <tbody>\n",
       "    <tr>\n",
       "      <th>0</th>\n",
       "      <td>17.99</td>\n",
       "      <td>10.38</td>\n",
       "      <td>122.80</td>\n",
       "      <td>1001.0</td>\n",
       "      <td>0.11840</td>\n",
       "      <td>0.27760</td>\n",
       "      <td>0.3001</td>\n",
       "      <td>0.14710</td>\n",
       "      <td>0.2419</td>\n",
       "      <td>0.07871</td>\n",
       "      <td>...</td>\n",
       "      <td>17.33</td>\n",
       "      <td>184.60</td>\n",
       "      <td>2019.0</td>\n",
       "      <td>0.1622</td>\n",
       "      <td>0.6656</td>\n",
       "      <td>0.7119</td>\n",
       "      <td>0.2654</td>\n",
       "      <td>0.4601</td>\n",
       "      <td>0.11890</td>\n",
       "      <td>0</td>\n",
       "    </tr>\n",
       "    <tr>\n",
       "      <th>1</th>\n",
       "      <td>20.57</td>\n",
       "      <td>17.77</td>\n",
       "      <td>132.90</td>\n",
       "      <td>1326.0</td>\n",
       "      <td>0.08474</td>\n",
       "      <td>0.07864</td>\n",
       "      <td>0.0869</td>\n",
       "      <td>0.07017</td>\n",
       "      <td>0.1812</td>\n",
       "      <td>0.05667</td>\n",
       "      <td>...</td>\n",
       "      <td>23.41</td>\n",
       "      <td>158.80</td>\n",
       "      <td>1956.0</td>\n",
       "      <td>0.1238</td>\n",
       "      <td>0.1866</td>\n",
       "      <td>0.2416</td>\n",
       "      <td>0.1860</td>\n",
       "      <td>0.2750</td>\n",
       "      <td>0.08902</td>\n",
       "      <td>0</td>\n",
       "    </tr>\n",
       "    <tr>\n",
       "      <th>2</th>\n",
       "      <td>19.69</td>\n",
       "      <td>21.25</td>\n",
       "      <td>130.00</td>\n",
       "      <td>1203.0</td>\n",
       "      <td>0.10960</td>\n",
       "      <td>0.15990</td>\n",
       "      <td>0.1974</td>\n",
       "      <td>0.12790</td>\n",
       "      <td>0.2069</td>\n",
       "      <td>0.05999</td>\n",
       "      <td>...</td>\n",
       "      <td>25.53</td>\n",
       "      <td>152.50</td>\n",
       "      <td>1709.0</td>\n",
       "      <td>0.1444</td>\n",
       "      <td>0.4245</td>\n",
       "      <td>0.4504</td>\n",
       "      <td>0.2430</td>\n",
       "      <td>0.3613</td>\n",
       "      <td>0.08758</td>\n",
       "      <td>0</td>\n",
       "    </tr>\n",
       "    <tr>\n",
       "      <th>3</th>\n",
       "      <td>11.42</td>\n",
       "      <td>20.38</td>\n",
       "      <td>77.58</td>\n",
       "      <td>386.1</td>\n",
       "      <td>0.14250</td>\n",
       "      <td>0.28390</td>\n",
       "      <td>0.2414</td>\n",
       "      <td>0.10520</td>\n",
       "      <td>0.2597</td>\n",
       "      <td>0.09744</td>\n",
       "      <td>...</td>\n",
       "      <td>26.50</td>\n",
       "      <td>98.87</td>\n",
       "      <td>567.7</td>\n",
       "      <td>0.2098</td>\n",
       "      <td>0.8663</td>\n",
       "      <td>0.6869</td>\n",
       "      <td>0.2575</td>\n",
       "      <td>0.6638</td>\n",
       "      <td>0.17300</td>\n",
       "      <td>0</td>\n",
       "    </tr>\n",
       "    <tr>\n",
       "      <th>4</th>\n",
       "      <td>20.29</td>\n",
       "      <td>14.34</td>\n",
       "      <td>135.10</td>\n",
       "      <td>1297.0</td>\n",
       "      <td>0.10030</td>\n",
       "      <td>0.13280</td>\n",
       "      <td>0.1980</td>\n",
       "      <td>0.10430</td>\n",
       "      <td>0.1809</td>\n",
       "      <td>0.05883</td>\n",
       "      <td>...</td>\n",
       "      <td>16.67</td>\n",
       "      <td>152.20</td>\n",
       "      <td>1575.0</td>\n",
       "      <td>0.1374</td>\n",
       "      <td>0.2050</td>\n",
       "      <td>0.4000</td>\n",
       "      <td>0.1625</td>\n",
       "      <td>0.2364</td>\n",
       "      <td>0.07678</td>\n",
       "      <td>0</td>\n",
       "    </tr>\n",
       "  </tbody>\n",
       "</table>\n",
       "<p>5 rows × 31 columns</p>\n",
       "</div>"
      ],
      "text/plain": [
       "   mean radius  mean texture  mean perimeter  mean area  mean smoothness  \\\n",
       "0        17.99         10.38          122.80     1001.0          0.11840   \n",
       "1        20.57         17.77          132.90     1326.0          0.08474   \n",
       "2        19.69         21.25          130.00     1203.0          0.10960   \n",
       "3        11.42         20.38           77.58      386.1          0.14250   \n",
       "4        20.29         14.34          135.10     1297.0          0.10030   \n",
       "\n",
       "   mean compactness  mean concavity  mean concave points  mean symmetry  \\\n",
       "0           0.27760          0.3001              0.14710         0.2419   \n",
       "1           0.07864          0.0869              0.07017         0.1812   \n",
       "2           0.15990          0.1974              0.12790         0.2069   \n",
       "3           0.28390          0.2414              0.10520         0.2597   \n",
       "4           0.13280          0.1980              0.10430         0.1809   \n",
       "\n",
       "   mean fractal dimension  ...  worst texture  worst perimeter  worst area  \\\n",
       "0                 0.07871  ...          17.33           184.60      2019.0   \n",
       "1                 0.05667  ...          23.41           158.80      1956.0   \n",
       "2                 0.05999  ...          25.53           152.50      1709.0   \n",
       "3                 0.09744  ...          26.50            98.87       567.7   \n",
       "4                 0.05883  ...          16.67           152.20      1575.0   \n",
       "\n",
       "   worst smoothness  worst compactness  worst concavity  worst concave points  \\\n",
       "0            0.1622             0.6656           0.7119                0.2654   \n",
       "1            0.1238             0.1866           0.2416                0.1860   \n",
       "2            0.1444             0.4245           0.4504                0.2430   \n",
       "3            0.2098             0.8663           0.6869                0.2575   \n",
       "4            0.1374             0.2050           0.4000                0.1625   \n",
       "\n",
       "   worst symmetry  worst fractal dimension  target  \n",
       "0          0.4601                  0.11890       0  \n",
       "1          0.2750                  0.08902       0  \n",
       "2          0.3613                  0.08758       0  \n",
       "3          0.6638                  0.17300       0  \n",
       "4          0.2364                  0.07678       0  \n",
       "\n",
       "[5 rows x 31 columns]"
      ]
     },
     "execution_count": 3,
     "metadata": {},
     "output_type": "execute_result"
    }
   ],
   "source": [
    "data = load_breast_cancer()\n",
    "\n",
    "cancer = pd.DataFrame(data.data, columns = data.feature_names)\n",
    "cancer['target'] = data.target\n",
    "cancer.head()"
   ]
  },
  {
   "cell_type": "code",
   "execution_count": 4,
   "metadata": {},
   "outputs": [
    {
     "data": {
      "text/plain": [
       "1    357\n",
       "0    212\n",
       "Name: target, dtype: int64"
      ]
     },
     "execution_count": 4,
     "metadata": {},
     "output_type": "execute_result"
    }
   ],
   "source": [
    "cancer['target'].value_counts()"
   ]
  },
  {
   "cell_type": "code",
   "execution_count": 5,
   "metadata": {},
   "outputs": [
    {
     "name": "stdout",
     "output_type": "stream",
     "text": [
      "(455, 30) (114, 30)\n"
     ]
    }
   ],
   "source": [
    "y = cancer['target']\n",
    "X = cancer.drop('target', axis = 1)\n",
    "X_train, X_test, y_train, y_test = train_test_split(X, y, test_size = 0.2, random_state = 11)\n",
    "print(X_train.shape, X_test.shape)"
   ]
  },
  {
   "cell_type": "code",
   "execution_count": 6,
   "metadata": {},
   "outputs": [],
   "source": [
    "xgb = XGBClassifier(n_estimators=500, learning_rate = 0.1, max_depth = 4)\n",
    "xgb.fit(X_train, y_train)\n",
    "xgb_pred = xgb.predict(X_test)"
   ]
  },
  {
   "cell_type": "code",
   "execution_count": 7,
   "metadata": {},
   "outputs": [
    {
     "name": "stdout",
     "output_type": "stream",
     "text": [
      "ACU : 0.99, PRE : 0.99, REC : 1.00\n",
      "f1-score : 0.99, auc : 0.99\n"
     ]
    }
   ],
   "source": [
    "metrics(y_test, xgb_pred)"
   ]
  },
  {
   "cell_type": "code",
   "execution_count": null,
   "metadata": {},
   "outputs": [],
   "source": []
  },
  {
   "cell_type": "code",
   "execution_count": null,
   "metadata": {},
   "outputs": [],
   "source": []
  },
  {
   "cell_type": "code",
   "execution_count": null,
   "metadata": {},
   "outputs": [],
   "source": []
  },
  {
   "cell_type": "code",
   "execution_count": 8,
   "metadata": {},
   "outputs": [
    {
     "data": {
      "text/html": [
       "<div>\n",
       "<style scoped>\n",
       "    .dataframe tbody tr th:only-of-type {\n",
       "        vertical-align: middle;\n",
       "    }\n",
       "\n",
       "    .dataframe tbody tr th {\n",
       "        vertical-align: top;\n",
       "    }\n",
       "\n",
       "    .dataframe thead th {\n",
       "        text-align: right;\n",
       "    }\n",
       "</style>\n",
       "<table border=\"1\" class=\"dataframe\">\n",
       "  <thead>\n",
       "    <tr style=\"text-align: right;\">\n",
       "      <th></th>\n",
       "      <th>PassengerId</th>\n",
       "      <th>Survived</th>\n",
       "      <th>Pclass</th>\n",
       "      <th>Name</th>\n",
       "      <th>Sex</th>\n",
       "      <th>Age</th>\n",
       "      <th>SibSp</th>\n",
       "      <th>Parch</th>\n",
       "      <th>Ticket</th>\n",
       "      <th>Fare</th>\n",
       "      <th>Cabin</th>\n",
       "      <th>Embarked</th>\n",
       "    </tr>\n",
       "  </thead>\n",
       "  <tbody>\n",
       "    <tr>\n",
       "      <th>0</th>\n",
       "      <td>1</td>\n",
       "      <td>0</td>\n",
       "      <td>3</td>\n",
       "      <td>Braund, Mr. Owen Harris</td>\n",
       "      <td>male</td>\n",
       "      <td>22.0</td>\n",
       "      <td>1</td>\n",
       "      <td>0</td>\n",
       "      <td>A/5 21171</td>\n",
       "      <td>7.2500</td>\n",
       "      <td>NaN</td>\n",
       "      <td>S</td>\n",
       "    </tr>\n",
       "    <tr>\n",
       "      <th>1</th>\n",
       "      <td>2</td>\n",
       "      <td>1</td>\n",
       "      <td>1</td>\n",
       "      <td>Cumings, Mrs. John Bradley (Florence Briggs Th...</td>\n",
       "      <td>female</td>\n",
       "      <td>38.0</td>\n",
       "      <td>1</td>\n",
       "      <td>0</td>\n",
       "      <td>PC 17599</td>\n",
       "      <td>71.2833</td>\n",
       "      <td>C85</td>\n",
       "      <td>C</td>\n",
       "    </tr>\n",
       "    <tr>\n",
       "      <th>2</th>\n",
       "      <td>3</td>\n",
       "      <td>1</td>\n",
       "      <td>3</td>\n",
       "      <td>Heikkinen, Miss. Laina</td>\n",
       "      <td>female</td>\n",
       "      <td>26.0</td>\n",
       "      <td>0</td>\n",
       "      <td>0</td>\n",
       "      <td>STON/O2. 3101282</td>\n",
       "      <td>7.9250</td>\n",
       "      <td>NaN</td>\n",
       "      <td>S</td>\n",
       "    </tr>\n",
       "    <tr>\n",
       "      <th>3</th>\n",
       "      <td>4</td>\n",
       "      <td>1</td>\n",
       "      <td>1</td>\n",
       "      <td>Futrelle, Mrs. Jacques Heath (Lily May Peel)</td>\n",
       "      <td>female</td>\n",
       "      <td>35.0</td>\n",
       "      <td>1</td>\n",
       "      <td>0</td>\n",
       "      <td>113803</td>\n",
       "      <td>53.1000</td>\n",
       "      <td>C123</td>\n",
       "      <td>S</td>\n",
       "    </tr>\n",
       "    <tr>\n",
       "      <th>4</th>\n",
       "      <td>5</td>\n",
       "      <td>0</td>\n",
       "      <td>3</td>\n",
       "      <td>Allen, Mr. William Henry</td>\n",
       "      <td>male</td>\n",
       "      <td>35.0</td>\n",
       "      <td>0</td>\n",
       "      <td>0</td>\n",
       "      <td>373450</td>\n",
       "      <td>8.0500</td>\n",
       "      <td>NaN</td>\n",
       "      <td>S</td>\n",
       "    </tr>\n",
       "  </tbody>\n",
       "</table>\n",
       "</div>"
      ],
      "text/plain": [
       "   PassengerId  Survived  Pclass  \\\n",
       "0            1         0       3   \n",
       "1            2         1       1   \n",
       "2            3         1       3   \n",
       "3            4         1       1   \n",
       "4            5         0       3   \n",
       "\n",
       "                                                Name     Sex   Age  SibSp  \\\n",
       "0                            Braund, Mr. Owen Harris    male  22.0      1   \n",
       "1  Cumings, Mrs. John Bradley (Florence Briggs Th...  female  38.0      1   \n",
       "2                             Heikkinen, Miss. Laina  female  26.0      0   \n",
       "3       Futrelle, Mrs. Jacques Heath (Lily May Peel)  female  35.0      1   \n",
       "4                           Allen, Mr. William Henry    male  35.0      0   \n",
       "\n",
       "   Parch            Ticket     Fare Cabin Embarked  \n",
       "0      0         A/5 21171   7.2500   NaN        S  \n",
       "1      0          PC 17599  71.2833   C85        C  \n",
       "2      0  STON/O2. 3101282   7.9250   NaN        S  \n",
       "3      0            113803  53.1000  C123        S  \n",
       "4      0            373450   8.0500   NaN        S  "
      ]
     },
     "execution_count": 8,
     "metadata": {},
     "output_type": "execute_result"
    }
   ],
   "source": [
    "data = pd.read_csv('C:\\\\Users\\박선희\\\\Xgboost\\\\Datas\\\\titanic\\\\train.csv')\n",
    "data.head()"
   ]
  },
  {
   "cell_type": "code",
   "execution_count": 9,
   "metadata": {},
   "outputs": [],
   "source": [
    "data['Embarked'].fillna('S', inplace = True)\n",
    "data['Fare'].fillna(0, inplace=True)\n",
    "data['Initial'] = data['Name'].str.extract('([A-Za-z]+)\\.')\n",
    "data['Initial'].replace(['Mlle','Mme','Ms','Dr','Major','Lady','Countess','Jonkheer','Col','Rev','Capt','Sir','Don', 'Dona'],['Miss','Miss','Miss','Mr','Mr','Mrs','Mrs','Other','Other','Other','Mr','Mr','Mr','Other'],inplace=True)\n"
   ]
  },
  {
   "cell_type": "code",
   "execution_count": 10,
   "metadata": {},
   "outputs": [],
   "source": [
    "\n",
    "mapping = {\n",
    "    \"Mr\":0,\n",
    "    \"Miss\":1,\n",
    "    \"Mrs\" : 1,\n",
    "    \"Master\":2,\n",
    "    \"Other\":3\n",
    "}\n",
    "\n",
    "\n",
    "\n",
    "mapping_sex = {\n",
    "    'male' : 0,\n",
    "    'female': 1\n",
    "}\n",
    "\n",
    "mapping_em = {\n",
    "    'S' :0,\n",
    "    'C' :1,\n",
    "    'Q' :2\n",
    "}\n"
   ]
  },
  {
   "cell_type": "code",
   "execution_count": 11,
   "metadata": {},
   "outputs": [],
   "source": [
    "\n",
    "data['Initial'] = data['Initial'].map(mapping)\n",
    "data['Fare'] = data['Fare'].map(lambda x : np.log(x) if x > 0 else 0)\n",
    "data['Sex'] = data['Sex'].map(mapping_sex)\n",
    "data['Embarked'] = data['Embarked'].map(mapping_em)\n"
   ]
  },
  {
   "cell_type": "code",
   "execution_count": 12,
   "metadata": {},
   "outputs": [],
   "source": [
    "data.drop(['PassengerId', \"Ticket\", \"Cabin\", \"Name\"], axis = 1, inplace = True)\n",
    "\n",
    "data.loc[ (data['Age'].isnull()) & (data['Initial'] == 0), 'Age' ] = 32\n",
    "data.loc[ (data['Age'].isnull()) & (data['Initial'] == 1), 'Age' ] = 28\n",
    "data.loc[ (data['Age'].isnull()) & (data['Initial'] == 2), 'Age' ] = 5\n",
    "data.loc[ (data['Age'].isnull()) & (data['Initial'] == 3), 'Age' ] = 45"
   ]
  },
  {
   "cell_type": "code",
   "execution_count": 13,
   "metadata": {},
   "outputs": [],
   "source": [
    "y = data['Survived']\n",
    "X = data.drop('Survived', axis = 1)\n",
    "X_train, X_test, y_train, y_test = train_test_split(X, y, test_size = 0.2, random_state=10)"
   ]
  },
  {
   "cell_type": "code",
   "execution_count": 14,
   "metadata": {},
   "outputs": [
    {
     "name": "stdout",
     "output_type": "stream",
     "text": [
      "Fitting 5 folds for each of 100 candidates, totalling 500 fits\n"
     ]
    },
    {
     "data": {
      "text/plain": [
       "GridSearchCV(estimator=XGBClassifier(base_score=None, booster=None,\n",
       "                                     callbacks=None, colsample_bylevel=None,\n",
       "                                     colsample_bynode=None,\n",
       "                                     colsample_bytree=None,\n",
       "                                     early_stopping_rounds=None,\n",
       "                                     enable_categorical=False, eval_metric=None,\n",
       "                                     gamma=None, gpu_id=None, grow_policy=None,\n",
       "                                     importance_type=None,\n",
       "                                     interaction_constraints=None,\n",
       "                                     learning_rate=None, max_bin=None,\n",
       "                                     max_cat_to_...\n",
       "                                     max_delta_step=None, max_depth=None,\n",
       "                                     max_leaves=None, min_child_weight=None,\n",
       "                                     missing=nan, monotone_constraints=None,\n",
       "                                     n_estimators=100, n_jobs=None,\n",
       "                                     num_parallel_tree=None, predictor=None,\n",
       "                                     random_state=None, reg_alpha=None,\n",
       "                                     reg_lambda=None, ...),\n",
       "             n_jobs=-1,\n",
       "             param_grid={'learning_rate': [0.01, 0.05, 0.1, 0.15, 0.2],\n",
       "                         'max_depth': [4, 6, 8, 10, 12],\n",
       "                         'n_estimators': [100, 200, 400, 600]},\n",
       "             scoring='accuracy', verbose=1)"
      ]
     },
     "execution_count": 14,
     "metadata": {},
     "output_type": "execute_result"
    }
   ],
   "source": [
    "xgb = XGBClassifier()\n",
    "\n",
    "xgb_param_grid = {\n",
    "    'n_estimators' : [100, 200, 400, 600],\n",
    "    'learning_rate' : [0.01, 0.05, 0.1, 0.15, 0.2],\n",
    "    'max_depth' : [4, 6, 8, 10, 12],\n",
    "}\n",
    "\n",
    "xgb_grid = GridSearchCV(xgb, param_grid = xgb_param_grid, scoring=\"accuracy\", n_jobs= -1, verbose = 1)\n",
    "xgb_grid.fit(X_train, y_train)\n"
   ]
  },
  {
   "cell_type": "code",
   "execution_count": 15,
   "metadata": {},
   "outputs": [
    {
     "name": "stdout",
     "output_type": "stream",
     "text": [
      "ACU : 0.8357\n",
      "PARAM :  {'learning_rate': 0.01, 'max_depth': 4, 'n_estimators': 600}\n"
     ]
    }
   ],
    "source": [
      "print(\"ACU : {0:.4f}\".format(xgb_grid.best_score_))\n",
      "print(\"PARAM : \", xgb_grid.best_params_)"
    ]
  },
  {
   "cell_type": "code",
   "execution_count": 16,
   "metadata": {},
   "outputs": [],
   "source": [
    "result = pd.DataFrame(xgb_grid.cv_results_)\n",
    "result.sort_values(by=['rank_test_score'], inplace=True)"
   ]
  },
  {
   "cell_type": "code",
   "execution_count": 17,
   "metadata": {},
   "outputs": [
    {
     "data": {
      "text/html": [
       "<div>\n",
       "<style scoped>\n",
       "    .dataframe tbody tr th:only-of-type {\n",
       "        vertical-align: middle;\n",
       "    }\n",
       "\n",
       "    .dataframe tbody tr th {\n",
       "        vertical-align: top;\n",
       "    }\n",
       "\n",
       "    .dataframe thead th {\n",
       "        text-align: right;\n",
       "    }\n",
       "</style>\n",
       "<table border=\"1\" class=\"dataframe\">\n",
       "  <thead>\n",
       "    <tr style=\"text-align: right;\">\n",
       "      <th></th>\n",
       "      <th>params</th>\n",
       "      <th>mean_test_score</th>\n",
       "      <th>rank_test_score</th>\n",
       "    </tr>\n",
       "  </thead>\n",
       "  <tbody>\n",
       "    <tr>\n",
       "      <th>3</th>\n",
       "      <td>{'learning_rate': 0.01, 'max_depth': 4, 'n_est...</td>\n",
       "      <td>0.835664</td>\n",
       "      <td>1</td>\n",
       "    </tr>\n",
       "    <tr>\n",
       "      <th>20</th>\n",
       "      <td>{'learning_rate': 0.05, 'max_depth': 4, 'n_est...</td>\n",
       "      <td>0.828622</td>\n",
       "      <td>2</td>\n",
       "    </tr>\n",
       "    <tr>\n",
       "      <th>6</th>\n",
       "      <td>{'learning_rate': 0.01, 'max_depth': 6, 'n_est...</td>\n",
       "      <td>0.825845</td>\n",
       "      <td>3</td>\n",
       "    </tr>\n",
       "    <tr>\n",
       "      <th>1</th>\n",
       "      <td>{'learning_rate': 0.01, 'max_depth': 4, 'n_est...</td>\n",
       "      <td>0.824436</td>\n",
       "      <td>4</td>\n",
       "    </tr>\n",
       "    <tr>\n",
       "      <th>5</th>\n",
       "      <td>{'learning_rate': 0.01, 'max_depth': 6, 'n_est...</td>\n",
       "      <td>0.821639</td>\n",
       "      <td>5</td>\n",
       "    </tr>\n",
       "    <tr>\n",
       "      <th>40</th>\n",
       "      <td>{'learning_rate': 0.1, 'max_depth': 4, 'n_esti...</td>\n",
       "      <td>0.820221</td>\n",
       "      <td>6</td>\n",
       "    </tr>\n",
       "    <tr>\n",
       "      <th>21</th>\n",
       "      <td>{'learning_rate': 0.05, 'max_depth': 4, 'n_est...</td>\n",
       "      <td>0.820211</td>\n",
       "      <td>7</td>\n",
       "    </tr>\n",
       "    <tr>\n",
       "      <th>10</th>\n",
       "      <td>{'learning_rate': 0.01, 'max_depth': 8, 'n_est...</td>\n",
       "      <td>0.817453</td>\n",
       "      <td>8</td>\n",
       "    </tr>\n",
       "    <tr>\n",
       "      <th>24</th>\n",
       "      <td>{'learning_rate': 0.05, 'max_depth': 6, 'n_est...</td>\n",
       "      <td>0.816025</td>\n",
       "      <td>9</td>\n",
       "    </tr>\n",
       "    <tr>\n",
       "      <th>11</th>\n",
       "      <td>{'learning_rate': 0.01, 'max_depth': 8, 'n_est...</td>\n",
       "      <td>0.816005</td>\n",
       "      <td>10</td>\n",
       "    </tr>\n",
       "  </tbody>\n",
       "</table>\n",
       "</div>"
      ],
      "text/plain": [
       "                                               params  mean_test_score  \\\n",
       "3   {'learning_rate': 0.01, 'max_depth': 4, 'n_est...         0.835664   \n",
       "20  {'learning_rate': 0.05, 'max_depth': 4, 'n_est...         0.828622   \n",
       "6   {'learning_rate': 0.01, 'max_depth': 6, 'n_est...         0.825845   \n",
       "1   {'learning_rate': 0.01, 'max_depth': 4, 'n_est...         0.824436   \n",
       "5   {'learning_rate': 0.01, 'max_depth': 6, 'n_est...         0.821639   \n",
       "40  {'learning_rate': 0.1, 'max_depth': 4, 'n_esti...         0.820221   \n",
       "21  {'learning_rate': 0.05, 'max_depth': 4, 'n_est...         0.820211   \n",
       "10  {'learning_rate': 0.01, 'max_depth': 8, 'n_est...         0.817453   \n",
       "24  {'learning_rate': 0.05, 'max_depth': 6, 'n_est...         0.816025   \n",
       "11  {'learning_rate': 0.01, 'max_depth': 8, 'n_est...         0.816005   \n",
       "\n",
       "    rank_test_score  \n",
       "3                 1  \n",
       "20                2  \n",
       "6                 3  \n",
       "1                 4  \n",
       "5                 5  \n",
       "40                6  \n",
       "21                7  \n",
       "10                8  \n",
       "24                9  \n",
       "11               10  "
      ]
     },
     "execution_count": 17,
     "metadata": {},
     "output_type": "execute_result"
    }
   ],
   "source": [
    "result[['params', 'mean_test_score', 'rank_test_score']].head(10)"
   ]
  },
  {
   "cell_type": "code",
   "execution_count": 5,
   "metadata": {},
   "outputs": [],
   "source": []
  },
  {
   "cell_type": "code",
   "execution_count": 5,
   "metadata": {},
   "outputs": [],
   "source": []
  },
  {
   "cell_type": "code",
   "execution_count": 18,
   "metadata": {},
   "outputs": [
    {
     "name": "stdout",
     "output_type": "stream",
     "text": [
      "[0]\tvalidation_0-logloss:0.64324\n",
      "[1]\tvalidation_0-logloss:0.60054\n",
      "[2]\tvalidation_0-logloss:0.56728\n",
      "[3]\tvalidation_0-logloss:0.53962\n",
      "[4]\tvalidation_0-logloss:0.51578\n",
      "[5]\tvalidation_0-logloss:0.49308\n",
      "[6]\tvalidation_0-logloss:0.47552\n",
      "[7]\tvalidation_0-logloss:0.46041\n",
      "[8]\tvalidation_0-logloss:0.44788\n",
      "[9]\tvalidation_0-logloss:0.43425\n",
      "[10]\tvalidation_0-logloss:0.42489\n",
      "[11]\tvalidation_0-logloss:0.41704\n",
      "[12]\tvalidation_0-logloss:0.41052\n",
      "[13]\tvalidation_0-logloss:0.40404\n",
      "[14]\tvalidation_0-logloss:0.39943\n",
      "[15]\tvalidation_0-logloss:0.39399\n",
      "[16]\tvalidation_0-logloss:0.39069\n",
      "[17]\tvalidation_0-logloss:0.38691\n",
      "[18]\tvalidation_0-logloss:0.38319\n",
      "[19]\tvalidation_0-logloss:0.37907\n",
      "[20]\tvalidation_0-logloss:0.37577\n",
      "[21]\tvalidation_0-logloss:0.37422\n",
      "[22]\tvalidation_0-logloss:0.37279\n",
      "[23]\tvalidation_0-logloss:0.37334\n",
      "[24]\tvalidation_0-logloss:0.37053\n",
      "[25]\tvalidation_0-logloss:0.36952\n",
      "[26]\tvalidation_0-logloss:0.36909\n",
      "[27]\tvalidation_0-logloss:0.36907\n",
      "[28]\tvalidation_0-logloss:0.36729\n",
      "[29]\tvalidation_0-logloss:0.36603\n",
      "[30]\tvalidation_0-logloss:0.36595\n",
      "[31]\tvalidation_0-logloss:0.36479\n",
      "[32]\tvalidation_0-logloss:0.36504\n",
      "[33]\tvalidation_0-logloss:0.36526\n",
      "[34]\tvalidation_0-logloss:0.36450\n",
      "[35]\tvalidation_0-logloss:0.36495\n",
      "[36]\tvalidation_0-logloss:0.36530\n",
      "[37]\tvalidation_0-logloss:0.36569\n",
      "[38]\tvalidation_0-logloss:0.36463\n",
      "[39]\tvalidation_0-logloss:0.36539\n",
      "[40]\tvalidation_0-logloss:0.36601\n",
      "[41]\tvalidation_0-logloss:0.36451\n",
      "[42]\tvalidation_0-logloss:0.36213\n",
      "[43]\tvalidation_0-logloss:0.36327\n",
      "[44]\tvalidation_0-logloss:0.36281\n",
      "[45]\tvalidation_0-logloss:0.36142\n",
      "[46]\tvalidation_0-logloss:0.36108\n",
      "[47]\tvalidation_0-logloss:0.36227\n",
      "[48]\tvalidation_0-logloss:0.36034\n",
      "[49]\tvalidation_0-logloss:0.36015\n",
      "[50]\tvalidation_0-logloss:0.35954\n",
      "[51]\tvalidation_0-logloss:0.36011\n",
      "[52]\tvalidation_0-logloss:0.35986\n",
      "[53]\tvalidation_0-logloss:0.36005\n",
      "[54]\tvalidation_0-logloss:0.36046\n",
      "[55]\tvalidation_0-logloss:0.35996\n",
      "[56]\tvalidation_0-logloss:0.35959\n",
      "[57]\tvalidation_0-logloss:0.36004\n",
      "[58]\tvalidation_0-logloss:0.35861\n",
      "[59]\tvalidation_0-logloss:0.35847\n",
      "[60]\tvalidation_0-logloss:0.35843\n",
      "[61]\tvalidation_0-logloss:0.35805\n",
      "[62]\tvalidation_0-logloss:0.35787\n",
      "[63]\tvalidation_0-logloss:0.35659\n",
      "[64]\tvalidation_0-logloss:0.35638\n",
      "[65]\tvalidation_0-logloss:0.35703\n",
      "[66]\tvalidation_0-logloss:0.35692\n",
      "[67]\tvalidation_0-logloss:0.35724\n",
      "[68]\tvalidation_0-logloss:0.35843\n",
      "[69]\tvalidation_0-logloss:0.35890\n",
      "[70]\tvalidation_0-logloss:0.35684\n",
      "[71]\tvalidation_0-logloss:0.35571\n",
      "[72]\tvalidation_0-logloss:0.35618\n",
      "[73]\tvalidation_0-logloss:0.35744\n",
      "[74]\tvalidation_0-logloss:0.35695\n",
      "[75]\tvalidation_0-logloss:0.35689\n",
      "[76]\tvalidation_0-logloss:0.35716\n",
      "[77]\tvalidation_0-logloss:0.35748\n",
      "[78]\tvalidation_0-logloss:0.35730\n",
      "[79]\tvalidation_0-logloss:0.35798\n",
      "[80]\tvalidation_0-logloss:0.35782\n",
      "[81]\tvalidation_0-logloss:0.35824\n",
      "[82]\tvalidation_0-logloss:0.35840\n",
      "[83]\tvalidation_0-logloss:0.35842\n",
      "[84]\tvalidation_0-logloss:0.35891\n",
      "[85]\tvalidation_0-logloss:0.36003\n",
      "[86]\tvalidation_0-logloss:0.35923\n",
      "[87]\tvalidation_0-logloss:0.35940\n",
      "[88]\tvalidation_0-logloss:0.35851\n",
      "[89]\tvalidation_0-logloss:0.35962\n",
      "[90]\tvalidation_0-logloss:0.35972\n",
      "[91]\tvalidation_0-logloss:0.36031\n",
      "[92]\tvalidation_0-logloss:0.35930\n",
      "[93]\tvalidation_0-logloss:0.35923\n",
      "[94]\tvalidation_0-logloss:0.35925\n",
      "[95]\tvalidation_0-logloss:0.35964\n",
      "[96]\tvalidation_0-logloss:0.35875\n",
      "[97]\tvalidation_0-logloss:0.36000\n",
      "[98]\tvalidation_0-logloss:0.35886\n",
      "[99]\tvalidation_0-logloss:0.35927\n",
      "[100]\tvalidation_0-logloss:0.35949\n",
      "[101]\tvalidation_0-logloss:0.35953\n",
      "[102]\tvalidation_0-logloss:0.35990\n",
      "[103]\tvalidation_0-logloss:0.36007\n",
      "[104]\tvalidation_0-logloss:0.36014\n",
      "[105]\tvalidation_0-logloss:0.36080\n",
      "[106]\tvalidation_0-logloss:0.35929\n",
      "[107]\tvalidation_0-logloss:0.35996\n",
      "[108]\tvalidation_0-logloss:0.36004\n",
      "[109]\tvalidation_0-logloss:0.35913\n",
      "[110]\tvalidation_0-logloss:0.35931\n",
      "[111]\tvalidation_0-logloss:0.35940\n",
      "[112]\tvalidation_0-logloss:0.35981\n",
      "[113]\tvalidation_0-logloss:0.35992\n",
      "[114]\tvalidation_0-logloss:0.36009\n",
      "[115]\tvalidation_0-logloss:0.35926\n",
      "[116]\tvalidation_0-logloss:0.35952\n",
      "[117]\tvalidation_0-logloss:0.35992\n",
      "[118]\tvalidation_0-logloss:0.35917\n",
      "[119]\tvalidation_0-logloss:0.35859\n",
      "[120]\tvalidation_0-logloss:0.35869\n",
      "[121]\tvalidation_0-logloss:0.35907\n",
      "[122]\tvalidation_0-logloss:0.35921\n",
      "[123]\tvalidation_0-logloss:0.35859\n",
      "[124]\tvalidation_0-logloss:0.35855\n",
      "[125]\tvalidation_0-logloss:0.35841\n",
      "[126]\tvalidation_0-logloss:0.35825\n",
      "[127]\tvalidation_0-logloss:0.35839\n",
      "[128]\tvalidation_0-logloss:0.35849\n",
      "[129]\tvalidation_0-logloss:0.35891\n",
      "[130]\tvalidation_0-logloss:0.35917\n",
      "[131]\tvalidation_0-logloss:0.35871\n",
      "[132]\tvalidation_0-logloss:0.35885\n",
      "[133]\tvalidation_0-logloss:0.35899\n",
      "[134]\tvalidation_0-logloss:0.35857\n",
      "[135]\tvalidation_0-logloss:0.35843\n",
      "[136]\tvalidation_0-logloss:0.35857\n",
      "[137]\tvalidation_0-logloss:0.35753\n",
      "[138]\tvalidation_0-logloss:0.35760\n",
      "[139]\tvalidation_0-logloss:0.35818\n",
      "[140]\tvalidation_0-logloss:0.35771\n",
      "[141]\tvalidation_0-logloss:0.35748\n",
      "[142]\tvalidation_0-logloss:0.35754\n",
      "[143]\tvalidation_0-logloss:0.35749\n",
      "[144]\tvalidation_0-logloss:0.35737\n",
      "[145]\tvalidation_0-logloss:0.35812\n",
      "[146]\tvalidation_0-logloss:0.35814\n",
      "[147]\tvalidation_0-logloss:0.35822\n"
     ]
    },
    {
     "name": "stderr",
     "output_type": "stream",
     "text": [
      "D:\\anaconda3\\lib\\site-packages\\xgboost\\sklearn.py:793: UserWarning: `eval_metric` in `fit` method is deprecated for better compatibility with scikit-learn, use `eval_metric` in constructor or`set_params` instead.\n",
      "  warnings.warn(\n",
      "D:\\anaconda3\\lib\\site-packages\\xgboost\\sklearn.py:793: UserWarning: `early_stopping_rounds` in `fit` method is deprecated for better compatibility with scikit-learn, use `early_stopping_rounds` in constructor or`set_params` instead.\n",
      "  warnings.warn(\n"
     ]
    },
    {
     "name": "stdout",
     "output_type": "stream",
     "text": [
      "[148]\tvalidation_0-logloss:0.35805\n",
      "[149]\tvalidation_0-logloss:0.35899\n",
      "[150]\tvalidation_0-logloss:0.35882\n",
      "[151]\tvalidation_0-logloss:0.35790\n",
      "[152]\tvalidation_0-logloss:0.35815\n",
      "[153]\tvalidation_0-logloss:0.35742\n",
      "[154]\tvalidation_0-logloss:0.35937\n",
      "[155]\tvalidation_0-logloss:0.35878\n",
      "[156]\tvalidation_0-logloss:0.35819\n",
      "[157]\tvalidation_0-logloss:0.35770\n",
      "[158]\tvalidation_0-logloss:0.35849\n",
      "[159]\tvalidation_0-logloss:0.35863\n",
      "[160]\tvalidation_0-logloss:0.35822\n",
      "[161]\tvalidation_0-logloss:0.35859\n",
      "[162]\tvalidation_0-logloss:0.35868\n",
      "[163]\tvalidation_0-logloss:0.35873\n",
      "[164]\tvalidation_0-logloss:0.35900\n",
      "[165]\tvalidation_0-logloss:0.35920\n",
      "[166]\tvalidation_0-logloss:0.35836\n",
      "[167]\tvalidation_0-logloss:0.35901\n",
      "[168]\tvalidation_0-logloss:0.35889\n",
      "[169]\tvalidation_0-logloss:0.35787\n",
      "[170]\tvalidation_0-logloss:0.35791\n"
     ]
    },
    {
     "data": {
      "text/plain": [
       "XGBClassifier(base_score=0.5, booster='gbtree', callbacks=None,\n",
       "              colsample_bylevel=1, colsample_bynode=1, colsample_bytree=1,\n",
       "              early_stopping_rounds=None, enable_categorical=False,\n",
       "              eval_metric=None, gamma=0, gpu_id=-1, grow_policy='depthwise',\n",
       "              importance_type=None, interaction_constraints='',\n",
       "              learning_rate=0.1, max_bin=256, max_cat_to_onehot=4,\n",
       "              max_delta_step=0, max_depth=3, max_leaves=0, min_child_weight=1,\n",
       "              missing=nan, monotone_constraints='()', n_estimators=400,\n",
       "              n_jobs=0, num_parallel_tree=1, predictor='auto', random_state=0,\n",
       "              reg_alpha=0, reg_lambda=1, ...)"
      ]
     },
     "execution_count": 18,
     "metadata": {},
     "output_type": "execute_result"
    }
   ],
   "source": [
    "xgb = XGBClassifier(n_estimators=400, learning_rate = 0.1, max_depth = 3)\n",
    "evals = [(X_test, y_test)]\n",
    "xgb.fit(X_train, y_train, early_stopping_rounds = 100, eval_metric = \"logloss\", eval_set = evals, verbose = 1)"
   ]
  },
  {
   "cell_type": "code",
   "execution_count": 19,
   "metadata": {},
   "outputs": [
    {
     "name": "stdout",
     "output_type": "stream",
     "text": [
      "[0]\tvalidation_0-logloss:0.64324\n",
      "[1]\tvalidation_0-logloss:0.60054\n",
      "[2]\tvalidation_0-logloss:0.56728\n",
      "[3]\tvalidation_0-logloss:0.53962\n",
      "[4]\tvalidation_0-logloss:0.51578\n",
      "[5]\tvalidation_0-logloss:0.49308\n",
      "[6]\tvalidation_0-logloss:0.47552\n",
      "[7]\tvalidation_0-logloss:0.46041\n",
      "[8]\tvalidation_0-logloss:0.44788\n",
      "[9]\tvalidation_0-logloss:0.43425\n",
      "[10]\tvalidation_0-logloss:0.42489\n",
      "[11]\tvalidation_0-logloss:0.41704\n",
      "[12]\tvalidation_0-logloss:0.41052\n",
      "[13]\tvalidation_0-logloss:0.40404\n",
      "[14]\tvalidation_0-logloss:0.39943\n",
      "[15]\tvalidation_0-logloss:0.39399\n",
      "[16]\tvalidation_0-logloss:0.39069\n",
      "[17]\tvalidation_0-logloss:0.38691\n",
      "[18]\tvalidation_0-logloss:0.38319\n",
      "[19]\tvalidation_0-logloss:0.37907\n",
      "[20]\tvalidation_0-logloss:0.37577\n",
      "[21]\tvalidation_0-logloss:0.37422\n",
      "[22]\tvalidation_0-logloss:0.37279\n",
      "[23]\tvalidation_0-logloss:0.37334\n",
      "[24]\tvalidation_0-logloss:0.37053\n",
      "[25]\tvalidation_0-logloss:0.36952\n",
      "[26]\tvalidation_0-logloss:0.36909\n",
      "[27]\tvalidation_0-logloss:0.36907\n",
      "[28]\tvalidation_0-logloss:0.36729\n",
      "[29]\tvalidation_0-logloss:0.36603\n",
      "[30]\tvalidation_0-logloss:0.36595\n",
      "[31]\tvalidation_0-logloss:0.36479\n",
      "[32]\tvalidation_0-logloss:0.36504\n",
      "[33]\tvalidation_0-logloss:0.36526\n",
      "[34]\tvalidation_0-logloss:0.36450\n",
      "[35]\tvalidation_0-logloss:0.36495\n",
      "[36]\tvalidation_0-logloss:0.36530\n"
     ]
    },
    {
     "data": {
      "text/plain": [
       "XGBClassifier(base_score=0.5, booster='gbtree', callbacks=None,\n",
       "              colsample_bylevel=1, colsample_bynode=1, colsample_bytree=1,\n",
       "              early_stopping_rounds=None, enable_categorical=False,\n",
       "              eval_metric=None, gamma=0, gpu_id=-1, grow_policy='depthwise',\n",
       "              importance_type=None, interaction_constraints='',\n",
       "              learning_rate=0.1, max_bin=256, max_cat_to_onehot=4,\n",
       "              max_delta_step=0, max_depth=3, max_leaves=0, min_child_weight=1,\n",
       "              missing=nan, monotone_constraints='()', n_estimators=400,\n",
       "              n_jobs=0, num_parallel_tree=1, predictor='auto', random_state=0,\n",
       "              reg_alpha=0, reg_lambda=1, ...)"
      ]
     },
     "execution_count": 19,
     "metadata": {},
     "output_type": "execute_result"
    }
   ],
   "source": [
    "xgb = XGBClassifier(n_estimators=400, learning_rate = 0.1, max_depth = 3)\n",
    "evals = [(X_test, y_test)]\n",
    "xgb.fit(X_train, y_train, early_stopping_rounds = 3, eval_metric = \"logloss\", eval_set = evals, verbose = 1)"
   ]
  },
  {
   "cell_type": "code",
   "execution_count": 20,
   "metadata": {},
   "outputs": [
    {
     "data": {
      "text/plain": [
       "<AxesSubplot:title={'center':'Feature importance'}, xlabel='F score', ylabel='Features'>"
      ]
     },
     "execution_count": 20,
     "metadata": {},
     "output_type": "execute_result"
    },
    {
     "data": {
      "image/png": "[encoded data removed]",
      "text/plain": [
       "<Figure size 432x288 with 1 Axes>"
      ]
     },
     "metadata": {
      "needs_background": "light"
     },
     "output_type": "display_data"
    }
   ],
   "source": [
    "fig, ax = plt.subplots()\n",
    "plot_importance(xgb, ax=ax)"
   ]
  },
  {
   "cell_type": "code",
   "execution_count": null,
   "metadata": {},
   "outputs": [],
   "source": []
  },
  {
   "cell_type": "code",
   "execution_count": 21,
   "metadata": {},
   "outputs": [
    {
     "ename": "ModuleNotFoundError",
     "evalue": "No module named 'lightgbm'",
     "output_type": "error",
     "traceback": [
      "\u001b[1;31m---------------------------------------------------------------------------\u001b[0m",
      "\u001b[1;31mModuleNotFoundError\u001b[0m                       Traceback (most recent call last)",
      "Input \u001b[1;32mIn [21]\u001b[0m, in \u001b[0;36m<cell line: 1>\u001b[1;34m()\u001b[0m\n\u001b[1;32m----> 1\u001b[0m \u001b[38;5;28;01mfrom\u001b[39;00m \u001b[38;5;21;01mlightgbm\u001b[39;00m \u001b[38;5;28;01mimport\u001b[39;00m LGBMClassifier, plot_importance\n",
      "\u001b[1;31mModuleNotFoundError\u001b[0m: No module named 'lightgbm'"
     ]
    }
   ],
   "source": [
    "from lightgbm import LGBMClassifier, plot_importance"
   ]
  },
  {
   "cell_type": "code",
   "execution_count": 11,
   "metadata": {},
   "outputs": [
    {
     "data": {
      "text/plain": [
       "LGBMClassifier(boosting_type='gbdt', class_weight=None, colsample_bytree=1.0,\n",
       "               importance_type='split', learning_rate=0.1, max_depth=-1,\n",
       "               min_child_samples=20, min_child_weight=0.001, min_split_gain=0.0,\n",
       "               n_estimaotrs=400, n_estimators=100, n_jobs=-1, num_leaves=31,\n",
       "               objective=None, random_state=None, reg_alpha=0.0, reg_lambda=0.0,\n",
       "               silent=True, subsample=1.0, subsample_for_bin=200000,\n",
       "               subsample_freq=0)"
      ]
     },
     "execution_count": 11,
     "metadata": {},
     "output_type": "execute_result"
    }
   ],
   "source": [
    "lgb = LGBMClassifier(n_estimaotrs = 400)\n",
    "lgb.fit(X_train, y_train)"
   ]
  },
  {
   "cell_type": "code",
   "execution_count": 12,
   "metadata": {},
   "outputs": [
    {
     "name": "stdout",
     "output_type": "stream",
     "text": [
      "ACU : 0.84, PRE : 0.79, REC : 0.73\n",
      "f1-score : 0.76, auc : 0.81\n"
     ]
    }
   ],
   "source": [
    "lgb_pred = lgb.predict(X_test)\n",
    "metrics(y_test, lgb_pred)"
   ]
  },
  {
   "cell_type": "code",
   "execution_count": 13,
   "metadata": {},
   "outputs": [
    {
     "name": "stdout",
     "output_type": "stream",
     "text": [
      "[1]\tvalid_0's binary_logloss: 0.605701\n",
      "Training until validation scores don't improve for 100 rounds\n",
      "[2]\tvalid_0's binary_logloss: 0.569461\n",
      "[3]\tvalid_0's binary_logloss: 0.540251\n",
      "[4]\tvalid_0's binary_logloss: 0.5147\n",
      "[5]\tvalid_0's binary_logloss: 0.493662\n",
      "[6]\tvalid_0's binary_logloss: 0.47569\n",
      "[7]\tvalid_0's binary_logloss: 0.45573\n",
      "[8]\tvalid_0's binary_logloss: 0.442288\n",
      "[9]\tvalid_0's binary_logloss: 0.427343\n",
      "[10]\tvalid_0's binary_logloss: 0.41478\n",
      "[11]\tvalid_0's binary_logloss: 0.404568\n",
      "[12]\tvalid_0's binary_logloss: 0.394087\n",
      "[13]\tvalid_0's binary_logloss: 0.384579\n",
      "[14]\tvalid_0's binary_logloss: 0.377022\n",
      "[15]\tvalid_0's binary_logloss: 0.372698\n",
      "[16]\tvalid_0's binary_logloss: 0.367266\n",
      "[17]\tvalid_0's binary_logloss: 0.364566\n",
      "[18]\tvalid_0's binary_logloss: 0.362322\n",
      "[19]\tvalid_0's binary_logloss: 0.35638\n",
      "[20]\tvalid_0's binary_logloss: 0.352956\n",
      "[21]\tvalid_0's binary_logloss: 0.351149\n",
      "[22]\tvalid_0's binary_logloss: 0.350341\n",
      "[23]\tvalid_0's binary_logloss: 0.348923\n",
      "[24]\tvalid_0's binary_logloss: 0.348176\n",
      "[25]\tvalid_0's binary_logloss: 0.34714\n",
      "[26]\tvalid_0's binary_logloss: 0.346754\n",
      "[27]\tvalid_0's binary_logloss: 0.347015\n",
      "[28]\tvalid_0's binary_logloss: 0.347799\n",
      "[29]\tvalid_0's binary_logloss: 0.348623\n",
      "[30]\tvalid_0's binary_logloss: 0.349346\n",
      "[31]\tvalid_0's binary_logloss: 0.350961\n",
      "[32]\tvalid_0's binary_logloss: 0.352158\n",
      "[33]\tvalid_0's binary_logloss: 0.352746\n",
      "[34]\tvalid_0's binary_logloss: 0.353988\n",
      "[35]\tvalid_0's binary_logloss: 0.35563\n",
      "[36]\tvalid_0's binary_logloss: 0.357587\n",
      "[37]\tvalid_0's binary_logloss: 0.357775\n",
      "[38]\tvalid_0's binary_logloss: 0.359317\n",
      "[39]\tvalid_0's binary_logloss: 0.360177\n",
      "[40]\tvalid_0's binary_logloss: 0.359158\n",
      "[41]\tvalid_0's binary_logloss: 0.360159\n",
      "[42]\tvalid_0's binary_logloss: 0.359884\n",
      "[43]\tvalid_0's binary_logloss: 0.360693\n",
      "[44]\tvalid_0's binary_logloss: 0.361518\n",
      "[45]\tvalid_0's binary_logloss: 0.361417\n",
      "[46]\tvalid_0's binary_logloss: 0.36477\n",
      "[47]\tvalid_0's binary_logloss: 0.366563\n",
      "[48]\tvalid_0's binary_logloss: 0.367413\n",
      "[49]\tvalid_0's binary_logloss: 0.370403\n",
      "[50]\tvalid_0's binary_logloss: 0.370454\n",
      "[51]\tvalid_0's binary_logloss: 0.3713\n",
      "[52]\tvalid_0's binary_logloss: 0.373395\n",
      "[53]\tvalid_0's binary_logloss: 0.371452\n",
      "[54]\tvalid_0's binary_logloss: 0.370792\n",
      "[55]\tvalid_0's binary_logloss: 0.369311\n",
      "[56]\tvalid_0's binary_logloss: 0.368987\n",
      "[57]\tvalid_0's binary_logloss: 0.372909\n",
      "[58]\tvalid_0's binary_logloss: 0.371587\n",
      "[59]\tvalid_0's binary_logloss: 0.371235\n",
      "[60]\tvalid_0's binary_logloss: 0.371714\n",
      "[61]\tvalid_0's binary_logloss: 0.372394\n",
      "[62]\tvalid_0's binary_logloss: 0.371164\n",
      "[63]\tvalid_0's binary_logloss: 0.371928\n",
      "[64]\tvalid_0's binary_logloss: 0.372314\n",
      "[65]\tvalid_0's binary_logloss: 0.372502\n",
      "[66]\tvalid_0's binary_logloss: 0.376302\n",
      "[67]\tvalid_0's binary_logloss: 0.378364\n",
      "[68]\tvalid_0's binary_logloss: 0.378404\n",
      "[69]\tvalid_0's binary_logloss: 0.381327\n",
      "[70]\tvalid_0's binary_logloss: 0.380973\n",
      "[71]\tvalid_0's binary_logloss: 0.382481\n",
      "[72]\tvalid_0's binary_logloss: 0.38136\n",
      "[73]\tvalid_0's binary_logloss: 0.383008\n",
      "[74]\tvalid_0's binary_logloss: 0.381861\n",
      "[75]\tvalid_0's binary_logloss: 0.382796\n",
      "[76]\tvalid_0's binary_logloss: 0.38258\n",
      "[77]\tvalid_0's binary_logloss: 0.384473\n",
      "[78]\tvalid_0's binary_logloss: 0.383581\n",
      "[79]\tvalid_0's binary_logloss: 0.385198\n",
      "[80]\tvalid_0's binary_logloss: 0.383797\n",
      "[81]\tvalid_0's binary_logloss: 0.383937\n",
      "[82]\tvalid_0's binary_logloss: 0.383372\n",
      "[83]\tvalid_0's binary_logloss: 0.384661\n",
      "[84]\tvalid_0's binary_logloss: 0.383799\n",
      "[85]\tvalid_0's binary_logloss: 0.384108\n",
      "[86]\tvalid_0's binary_logloss: 0.383364\n",
      "[87]\tvalid_0's binary_logloss: 0.384795\n",
      "[88]\tvalid_0's binary_logloss: 0.384702\n",
      "[89]\tvalid_0's binary_logloss: 0.386003\n",
      "[90]\tvalid_0's binary_logloss: 0.386621\n",
      "[91]\tvalid_0's binary_logloss: 0.387986\n",
      "[92]\tvalid_0's binary_logloss: 0.390496\n",
      "[93]\tvalid_0's binary_logloss: 0.389984\n",
      "[94]\tvalid_0's binary_logloss: 0.391477\n",
      "[95]\tvalid_0's binary_logloss: 0.391917\n",
      "[96]\tvalid_0's binary_logloss: 0.392326\n",
      "[97]\tvalid_0's binary_logloss: 0.392731\n",
      "[98]\tvalid_0's binary_logloss: 0.392586\n",
      "[99]\tvalid_0's binary_logloss: 0.394479\n",
      "[100]\tvalid_0's binary_logloss: 0.397251\n",
      "Did not meet early stopping. Best iteration is:\n",
      "[26]\tvalid_0's binary_logloss: 0.346754\n"
     ]
    },
    {
     "data": {
      "text/plain": [
       "LGBMClassifier(boosting_type='gbdt', class_weight=None, colsample_bytree=1.0,\n",
       "               importance_type='split', learning_rate=0.1, max_depth=-1,\n",
       "               min_child_samples=20, min_child_weight=0.001, min_split_gain=0.0,\n",
       "               n_estimaotrs=400, n_estimators=100, n_jobs=-1, num_leaves=31,\n",
       "               objective=None, random_state=None, reg_alpha=0.0, reg_lambda=0.0,\n",
       "               silent=True, subsample=1.0, subsample_for_bin=200000,\n",
       "               subsample_freq=0)"
      ]
     },
     "execution_count": 13,
     "metadata": {},
     "output_type": "execute_result"
    }
   ],
   "source": [
    "lgb = LGBMClassifier(n_estimaotrs = 400)\n",
    "evals = [(X_test, y_test)]\n",
    "lgb.fit(X_train, y_train, early_stopping_rounds = 100, eval_metric = \"logloss\", eval_set = evals, verbose = True)"
   ]
  },
  {
   "cell_type": "code",
   "execution_count": 15,
   "metadata": {},
   "outputs": [
    {
     "data": {
      "text/plain": [
       "<matplotlib.axes._subplots.AxesSubplot at 0x1c37516ff28>"
      ]
     },
     "execution_count": 15,
     "metadata": {},
     "output_type": "execute_result"
    },
    {
     "data": {
      "image/png": "[encoded data removed]",
      "text/plain": [
       "<Figure size 720x432 with 1 Axes>"
      ]
     },
     "metadata": {
      "needs_background": "light"
     },
     "output_type": "display_data"
    }
   ],
   "source": [
    "fig, ax = plt.subplots(figsize=(10, 6))\n",
    "plot_importance(lgb, ax = ax)"
   ]
  },
  {
   "cell_type": "code",
   "execution_count": null,
   "metadata": {},
   "outputs": [],
   "source": []
  },
  {
   "cell_type": "code",
   "execution_count": null,
   "metadata": {},
   "outputs": [],
   "source": []
  }
 ],
 "metadata": {
  "kernelspec": {
   "display_name": "Python 3.9.4 64-bit",
   "language": "python",
   "name": "python3"
  },
  "language_info": {
   "codemirror_mode": {
    "name": "ipython",
    "version": 3
   },
   "file_extension": ".py",
   "mimetype": "text/x-python",
   "name": "python",
   "nbconvert_exporter": "python",
   "pygments_lexer": "ipython3",
   "version": "3.9.4"
  },
  "vscode": {
   "interpreter": {
    "hash": "7fa85d7ed0bc7858b075fee4a79e5d6d61245ccf2564ea782540f8e2d0aa6412"
   }
  }
 },
 "nbformat": 4,
 "nbformat_minor": 2
}

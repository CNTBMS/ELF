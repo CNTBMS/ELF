{
 "cells": [
  {
   "cell_type": "code",
   "execution_count": 7,
   "id": "d38f8c49",
   "metadata": {},
   "outputs": [],
   "source": [
    "# 0. load\n",
    "from keras.utils import np_utils\n",
    "from keras.datasets import mnist\n",
    "from keras.models import Sequential\n",
    "from keras.layers import Dense, Activation"
   ]
  },
  {
   "cell_type": "code",
   "execution_count": 8,
   "id": "c4719ada",
   "metadata": {},
   "outputs": [
    {
     "name": "stdout",
     "output_type": "stream",
     "text": [
      "Downloading data from https://storage.googleapis.com/tensorflow/tf-keras-datasets/mnist.npz\n",
      "11490434/11490434 [==============================] - 1s 0us/step\n"
     ]
    }
   ],
   "source": [
    "# 1. generate\n",
    "(x_train, y_train), (x_test, y_test) = mnist.load_data()\n",
    "x_train = x_train.reshape(60000, 784).astype('float32') / 255.0\n",
    "x_test = x_test.reshape(10000, 784).astype('float32') / 255.0\n",
    "y_train = np_utils.to_categorical(y_train)\n",
    "y_test = np_utils.to_categorical(y_test)"
   ]
  },
  {
   "cell_type": "code",
   "execution_count": 9,
   "id": "44a91589",
   "metadata": {},
   "outputs": [],
   "source": [
    "# 2. construction\n",
    "model = Sequential()\n",
    "model.add(Dense(units=64, input_dim=28*28, activation='relu'))\n",
    "model.add(Dense(units=10, activation='softmax'))"
   ]
  },
  {
   "cell_type": "code",
   "execution_count": 10,
   "id": "be80e05b",
   "metadata": {},
   "outputs": [],
   "source": [
    "# 3. init\n",
    "model.compile(loss='categorical_crossentropy', optimizer='sgd', metrics=['accuracy'])"
   ]
  },
  {
   "cell_type": "code",
   "execution_count": 11,
   "id": "943d32f8",
   "metadata": {},
   "outputs": [
    {
     "name": "stdout",
     "output_type": "stream",
     "text": [
      "Epoch 1/5\n",
      "1875/1875 [==============================] - 2s 991us/step - loss: 0.6972 - accuracy: 0.8209\n",
      "Epoch 2/5\n",
      "1875/1875 [==============================] - 2s 955us/step - loss: 0.3431 - accuracy: 0.9042\n",
      "Epoch 3/5\n",
      "1875/1875 [==============================] - 2s 1ms/step - loss: 0.2936 - accuracy: 0.9171\n",
      "Epoch 4/5\n",
      "1875/1875 [==============================] - 2s 1ms/step - loss: 0.2639 - accuracy: 0.9264\n",
      "Epoch 5/5\n",
      "1875/1875 [==============================] - 2s 1ms/step - loss: 0.2419 - accuracy: 0.9322\n"
     ]
    }
   ],
   "source": [
    "# 4. learning\n",
    "hist = model.fit(x_train, y_train, epochs=5, batch_size=32)"
   ]
  },
  {
   "cell_type": "code",
   "execution_count": 12,
   "id": "a42dcf04",
   "metadata": {},
   "outputs": [
    {
     "name": "stdout",
     "output_type": "stream",
     "text": [
      "## training loss and acc ##\n",
      "[0.6971986889839172, 0.3430797755718231, 0.29356417059898376, 0.2638908922672272, 0.24191413819789886]\n",
      "[0.8208500146865845, 0.9041500091552734, 0.9170500040054321, 0.9264000058174133, 0.932200014591217]\n"
     ]
    }
   ],
   "source": [
    "# 5. search\n",
    "print('## training loss and acc ##')\n",
    "print(hist.history['loss'])\n",
    "print(hist.history['accuracy'])"
   ]
  },
  {
   "cell_type": "code",
   "execution_count": 13,
   "id": "050fe841",
   "metadata": {},
   "outputs": [
    {
     "name": "stdout",
     "output_type": "stream",
     "text": [
      "313/313 [==============================] - 0s 779us/step - loss: 0.2264 - accuracy: 0.9350\n",
      "## evaluation loss and_metrics ##\n",
      "[0.22640368342399597, 0.9350000023841858]\n"
     ]
    }
   ],
   "source": [
    "# 6. evaluation\n",
    "loss_and_metrics = model.evaluate(x_test, y_test, batch_size=32)\n",
    "print('## evaluation loss and_metrics ##')\n",
    "print(loss_and_metrics)"
   ]
  },
  {
   "cell_type": "code",
   "execution_count": 14,
   "id": "41b7e901",
   "metadata": {},
   "outputs": [
    {
     "name": "stdout",
     "output_type": "stream",
     "text": [
      "1/1 [==============================] - 0s 56ms/step\n",
      "## yhat ##\n",
      "[[2.9290040e-04 3.5665016e-07 5.6407304e-04 1.1870638e-03 3.1791672e-06\n",
      "  4.3375625e-05 6.9312364e-08 9.9762946e-01 2.3847893e-05 2.5571944e-04]]\n"
     ]
    }
   ],
   "source": [
    "# 7. prediction\n",
    "xhat = x_test[0:1]\n",
    "yhat = model.predict(xhat)\n",
    "print('## yhat ##')\n",
    "print(yhat)"
   ]
  },
  {
   "cell_type": "code",
   "execution_count": 18,
   "id": "fc4a317c",
   "metadata": {},
   "outputs": [],
   "source": [
    "import h5py\n",
    "import tensorflow as tf"
   ]
  },
  {
   "cell_type": "code",
   "execution_count": 16,
   "id": "5bb84cda",
   "metadata": {},
   "outputs": [],
   "source": [
    "model.save('test_model.h5')"
   ]
  },
  {
   "cell_type": "code",
   "execution_count": 19,
   "id": "35d08d54",
   "metadata": {},
   "outputs": [],
   "source": [
    "new_model = tf.keras.models.load_model('test_model.h5')"
   ]
  },
  {
   "cell_type": "code",
   "execution_count": 21,
   "id": "46fc4eee",
   "metadata": {},
   "outputs": [
    {
     "name": "stdout",
     "output_type": "stream",
     "text": [
      "313/313 [==============================] - 0s 806us/step - loss: 0.2264 - accuracy: 0.9350\n",
      "## evaluation loss and_metrics ##\n",
      "[0.22640368342399597, 0.9350000023841858]\n"
     ]
    }
   ],
   "source": [
    "# 6. evaluation\n",
    "loss_and_metrics = new_model.evaluate(x_test, y_test, batch_size=32)\n",
    "print('## evaluation loss and_metrics ##')\n",
    "print(loss_and_metrics)"
   ]
  },
  {
   "cell_type": "code",
   "execution_count": 22,
   "id": "bb1af563",
   "metadata": {},
   "outputs": [
    {
     "name": "stdout",
     "output_type": "stream",
     "text": [
      "Epoch 1/5\n",
      "1875/1875 [==============================] - 2s 811us/step - loss: 0.2243 - accuracy: 0.9379\n",
      "Epoch 2/5\n",
      "1875/1875 [==============================] - 2s 835us/step - loss: 0.2096 - accuracy: 0.9412\n",
      "Epoch 3/5\n",
      "1875/1875 [==============================] - 2s 817us/step - loss: 0.1969 - accuracy: 0.9448\n",
      "Epoch 4/5\n",
      "1875/1875 [==============================] - 2s 818us/step - loss: 0.1859 - accuracy: 0.9481\n",
      "Epoch 5/5\n",
      "1875/1875 [==============================] - 1s 796us/step - loss: 0.1761 - accuracy: 0.9507\n"
     ]
    }
   ],
   "source": [
    "# 4. learining\n",
    "hist = new_model.fit(x_train, y_train, epochs=5, batch_size=32)"
   ]
  }
 ],
 "metadata": {
  "kernelspec": {
   "display_name": "Python 3.9.4 64-bit",
   "language": "python",
   "name": "python3"
  },
  "language_info": {
   "codemirror_mode": {
    "name": "ipython",
    "version": 3
   },
   "file_extension": ".py",
   "mimetype": "text/x-python",
   "name": "python",
   "nbconvert_exporter": "python",
   "pygments_lexer": "ipython3",
   "version": "3.9.4"
  },
  "vscode": {
   "interpreter": {
    "hash": "7fa85d7ed0bc7858b075fee4a79e5d6d61245ccf2564ea782540f8e2d0aa6412"
   }
  }
 },
 "nbformat": 4,
 "nbformat_minor": 5
}
